{
 "cells": [
  {
   "cell_type": "code",
   "execution_count": 67,
   "id": "715b7d6b-4189-46cd-a480-59eedf00af67",
   "metadata": {},
   "outputs": [],
   "source": [
    "import matplotlib.pyplot as plt\n",
    "import numpy as np\n",
    "import numba as nb\n",
    "from scipy.stats import beta"
   ]
  },
  {
   "cell_type": "markdown",
   "id": "6a0362de-d491-47e9-8464-7c45d532d79e",
   "metadata": {},
   "source": [
    "**Goal:** improve the world's limit on the area of the Mandelbrot set.\n",
    "\n",
    "The [Mandelbrot set](https://en.wikipedia.org/wiki/Mandelbrot_set) is a set of [complex numbers](https://en.wikipedia.org/wiki/Complex_number) $c$ for which\n",
    "\n",
    "$$z_{i + 1} = |z_i|^2 + c \\mbox{ with } z_0 = 0$$\n",
    "\n",
    "does not diverge to infinity. That is, the set $c$ for which $|z_i| \\to \\infty$ as $i \\to \\infty$. Sequences $z_i$ that cycle or converge to any finite point are considered in the set; anything else is outside the set.\n",
    "\n",
    "The following function identifies whether a _point_ $c = x + y i$ is in the Mandelbrot set or not ($x$ and $y$ are real numbers and $i = \\sqrt{-1}$). It uses 32-bit (single precision) floating point to approximate real numbers (`np.complex64` is made of two `np.float32`). The algorithm tracks $z_i$ for two consecutive $i$, named \"tortoise\" and \"hare\" because [the hare is ahead of the tortoise](https://en.wikipedia.org/wiki/The_Tortoise_and_the_Hare) by a factor of 2. This is [Floyd's algorithm](https://en.wikipedia.org/wiki/Cycle_detection#Floyd%27s_tortoise_and_hare) for detecting cycles in a sequence (including the \"cycle\" of converging to a point)."
   ]
  },
  {
   "cell_type": "code",
   "execution_count": 15,
   "id": "c6205d9b-2e79-4b9b-8cc5-912b0f07de31",
   "metadata": {},
   "outputs": [],
   "source": [
    "@nb.jit\n",
    "def is_in_mandelbrot(x, y):\n",
    "    c = np.complex64(x) + np.complex64(y)*np.complex64(1j)\n",
    "    z_hare = z_tortoise = np.complex64(0)\n",
    "    while True:\n",
    "        z_hare = z_hare*z_hare + c\n",
    "        z_hare = z_hare*z_hare + c\n",
    "        z_tortoise = z_tortoise*z_tortoise + c\n",
    "        if z_hare == z_tortoise:\n",
    "            return True      # orbiting or converging to zero\n",
    "        if z_hare.real**2 + z_hare.imag**2 > 4:\n",
    "            return False     # diverging to infinity"
   ]
  },
  {
   "cell_type": "markdown",
   "id": "dd988bb8-b4d6-4691-beea-3a13dd19536e",
   "metadata": {},
   "source": [
    "There's a mathematical theorem ([Knill (2023)](https://doi.org/10.48550/arXiv.2305.17848), section 4.7) that proves that the Mandelbrot set is entirely contained within $x \\in (-2, 1)$, $y \\in (-\\frac{3}{2}, \\frac{3}{2})$.\n",
    "\n",
    "If $|z_i|^2 > 4$, then the $z_{i+1}$ with the smallest magnitude in that box is at $c = -2 + 0 i$, and that $z_{i+1} > 2$, which also has magnitude greater than $4$, so if a sequence ever exceeds $|z_i|^2 > 4$, then it diverges to infinity.\n",
    "\n",
    "Let's take a look at it."
   ]
  },
  {
   "cell_type": "code",
   "execution_count": 22,
   "id": "b6a81f59-c38b-43dd-915a-c8054c38c41b",
   "metadata": {},
   "outputs": [],
   "source": [
    "@nb.jit(parallel=True)\n",
    "def draw_mandelbrot(num_x, num_y):\n",
    "    xmin, xmax = -2, 1\n",
    "    ymin, ymax = -3/2, 3/2\n",
    "    \n",
    "    pixels = np.empty((num_x, num_y), np.int32)\n",
    "    dx = (xmax - xmin) / num_x\n",
    "    dy = (ymax - ymin) / num_y\n",
    "    \n",
    "    for i in nb.prange(num_x):\n",
    "        for j in nb.prange(num_y):\n",
    "            x = xmin + i*dx\n",
    "            y = ymin + j*dy\n",
    "            pixels[i, j] = is_in_mandelbrot(x, y)\n",
    "\n",
    "    return pixels"
   ]
  },
  {
   "cell_type": "code",
   "execution_count": 25,
   "id": "1caa008d-9c73-49b9-9b1c-723614238e10",
   "metadata": {},
   "outputs": [],
   "source": [
    "pixels = draw_mandelbrot(500, 500)"
   ]
  },
  {
   "cell_type": "code",
   "execution_count": 26,
   "id": "881eeb77-c65d-4ceb-85a8-c9a051352723",
   "metadata": {},
   "outputs": [
    {
     "data": {
      "image/png": "[encoded data removed]",
      "text/plain": [
       "<Figure size 700x700 with 1 Axes>"
      ]
     },
     "metadata": {},
     "output_type": "display_data"
    }
   ],
   "source": [
    "fig, ax = plt.subplots(figsize=(7, 7))\n",
    "\n",
    "ax.imshow(pixels, extent=[-2, 1, -3/2, 3/2])\n",
    "ax.set_xlabel(\"x\")\n",
    "ax.set_ylabel(\"y\")\n",
    "\n",
    "None"
   ]
  },
  {
   "cell_type": "markdown",
   "id": "87af1c9d-b00e-4e45-8c2b-ce0ee83e351f",
   "metadata": {},
   "source": [
    "The exact area of the Mandelbrot set is not known, mathematically. There is an expression,\n",
    "\n",
    "$$\\mbox{area of Mandelbrot set} = \\pi \\left( 1 - \\sum_{n=1}^\\infty n \\, {b_n}^2 \\right)$$\n",
    "\n",
    "in which the terms $b_n$ can be determined recursively, but it converges very slowly: $10^{118}$ terms are needed to get the first 2 digits, and $10^{1181}$ terms are needed to get 3 digits ([Ewing & Schober (1992)](https://doi.org/10.1007/BF01385497)). The best estimates of the Mandelbrot set's area come from sampling techniques. The most recent publication is [Bittner, Cheong, Gates, & Nguyen (2012)](https://doi.org/10.2140/involve.2017.10.555) and the most recent unpublished estimate is [Förstemann (2017)](https://www.foerstemann.name/labor.html) using two Radeon HD 5970 GPUs. The most precise, rigorous bounds to date are\n",
    "\n",
    "$$1.50640 < \\mbox{area of Mandelbrot set} < 1.53121\\mbox{.}$$\n",
    "\n",
    "(If you're interested in this sort of thing, Robert Munafo wrote a [rabbit warren of hyperlinked pages](http://www.mrob.com/pub/muency/areaofthemandelbrotset.html) about all of the techniques in 2003, from a [Usenet thread (alt.fractals)](https://ics.uci.edu/~eppstein/junkyard/mand-area.html) that started exactly 5 days after the [first release of Python (alt.sources)](https://www.tuhs.org/Usenet/alt.sources/1991-February/001749.html). Weird coincidence, huh?)\n",
    "\n",
    "The goal of this project is to _estimate_ the area of the Mandelbrot set by sampling."
   ]
  },
  {
   "cell_type": "code",
   "execution_count": 35,
   "id": "eb15256f-e914-480b-82d0-33f15720f613",
   "metadata": {},
   "outputs": [],
   "source": [
    "@nb.jit\n",
    "def count_mandelbrot(rng, num_samples, xmin, width, ymin, height):\n",
    "    out = np.int32(0)\n",
    "    for x_norm, y_norm in rng.random((num_samples, 2), np.float32):\n",
    "        x = xmin + (x_norm * width)\n",
    "        y = ymin + (y_norm * height)\n",
    "        out += is_in_mandelbrot(x, y)\n",
    "    return out"
   ]
  },
  {
   "cell_type": "code",
   "execution_count": 73,
   "id": "3dc3a031-4065-4bf9-ab2f-f0082a39470b",
   "metadata": {},
   "outputs": [
    {
     "data": {
      "text/plain": [
       "1.49571"
      ]
     },
     "execution_count": 73,
     "metadata": {},
     "output_type": "execute_result"
    }
   ],
   "source": [
    "xmin, xmax = -2, 1\n",
    "ymin, ymax = -3/2, 3/2\n",
    "\n",
    "rng = np.random.default_rng()   # can be forked to run multiple rngs in parallel\n",
    "\n",
    "denominator = 100000\n",
    "numerator = count_mandelbrot(rng, denominator, xmin, xmax - xmin, ymin, ymax - ymin)\n",
    "\n",
    "area = (numerator / denominator) * (xmax - xmin) * (ymax - ymin)\n",
    "area"
   ]
  },
  {
   "cell_type": "markdown",
   "id": "54426abf-447d-4b27-b9b0-8bada030bc9c",
   "metadata": {},
   "source": [
    "Just like an experimental measurement, sampling introduces uncertainty. To the (high) degree that our generated random numbers are independent, sampling an area and asking which points are in the Mandelbrot set are [Bernoulli trials](https://en.wikipedia.org/wiki/Bernoulli_trial), and we can use the (conservative but exact) [Clopper-Pearson interval](https://en.wikipedia.org/wiki/Binomial_proportion_confidence_interval#Clopper%E2%80%93Pearson_interval) to quantify the uncertainty.\n",
    "\n",
    "In the following, there is a 95% probability that the true Mandelbrot area is between `low` and `high`:"
   ]
  },
  {
   "cell_type": "code",
   "execution_count": 74,
   "id": "a34ad35e-9964-482b-b0d5-a531079536da",
   "metadata": {},
   "outputs": [
    {
     "data": {
      "text/plain": [
       "(1.4749876015477454, 1.5166068022595542)"
      ]
     },
     "execution_count": 74,
     "metadata": {},
     "output_type": "execute_result"
    }
   ],
   "source": [
    "alpha = 0.05   # desired confidence level (i.e. \"at 95% C.L.\")\n",
    "\n",
    "low, high = beta.ppf(\n",
    "    [alpha/2, 1 - alpha/2],\n",
    "    [numerator, numerator + 1],\n",
    "    [denominator - numerator + 1, denominator - numerator]\n",
    ") * (xmax - xmin) * (ymax - ymin)\n",
    "\n",
    "float(low), float(high)"
   ]
  },
  {
   "cell_type": "markdown",
   "id": "1315e263-f60a-4efa-9048-fbc60c125fc4",
   "metadata": {},
   "source": [
    "We can reduce this interval by increasing `num_samples`, but look at the plot: there are regions of fine detail and regions that are almost entirely inside or outside of the set."
   ]
  }
 ],
 "metadata": {
  "kernelspec": {
   "display_name": "Python 3 (ipykernel)",
   "language": "python",
   "name": "python3"
  },
  "language_info": {
   "codemirror_mode": {
    "name": "ipython",
    "version": 3
   },
   "file_extension": ".py",
   "mimetype": "text/x-python",
   "name": "python",
   "nbconvert_exporter": "python",
   "pygments_lexer": "ipython3",
   "version": "3.11.9"
  }
 },
 "nbformat": 4,
 "nbformat_minor": 5
}
